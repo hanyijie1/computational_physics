{
 "cells": [
  {
   "cell_type": "markdown",
   "metadata": {},
   "source": [
    "# Chapter9 并行（平行）计算\n",
    "\n",
    "将问题拆解为多个子问题，多线程(CPU,GPU，或者同个CPU的sections)处理。对于平行问题可拆解，以空间换时间（不太准确，应该是更的运行空间换时间）。\n",
    "\n",
    "问题：迭代问题如何？\n",
    "\n",
    "## 平行问题的拆分\n",
    "\n",
    "即平行问题的拆分。\n",
    "\n",
    "问题一般不完全平行，但可以将问题拆分为可以同步进行的子问题。\n",
    "\n",
    "这里**分配并行资源分配是个问题。** 最佳目标当然是子任务同时完成。\n",
    " \n",
    "\n"
   ]
  }
 ],
 "metadata": {
  "language_info": {
   "name": "python"
  }
 },
 "nbformat": 4,
 "nbformat_minor": 2
}

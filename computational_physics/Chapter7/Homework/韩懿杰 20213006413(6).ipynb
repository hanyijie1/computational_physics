{
 "cells": [
  {
   "cell_type": "markdown",
   "metadata": {},
   "source": [
    "# 第六次计算物理作业\n",
    "## 零、信息\n",
    "* 姓名：韩懿杰\n",
    "* 学号：20213006413\n",
    "## 一、题目：蒲丰投针\n",
    "## 二、分析\n",
    "该问题可视为针与线相交的概率积分结果含 $\\pi$,下面简化模型进行模拟。\n",
    "1. 设针长为1，直线间距为1。\n",
    "2. 所谓平行线有一个维度是没有用的，可以取等距点简化。\n",
    "3. 针本来也有三个自由度 $（x,y,\\theta)$ ，但是我们可以配合平行线去除y自由度。\n",
    "\n",
    "此外边界条件很是问题。\n",
    "1. 采取平行线上界为实线，下界为虚线。即上界线可以相交，下界线不可以。\n",
    "2. 而随机投针的最下端位置在这上下界中间。\n",
    "3. 这种边界规定平衡有界系统的边界效应，使其和无界等价。\n",
    "4. 此外这种规定还有一个优点：我们可以直接规定只有一条实线，一条虚线。\n",
    "\n",
    "综上，问题简化为\n",
    "1. \"实平行线\"(当然现在只是个点了)取值为 $x_{line}=1$ ，虚线为 x=0。\n",
    "2. 针的最下端取值范围是 $x_d=[0,1]$ ,角向取值范围是 $\\theta=[0,\\pi/2]$（其他情况重复，单调性有利于后续优化。） 则针的最高点坐标为 $x_m=x_d+|\\sin\\theta|$\n",
    "3. 显然相交条件为 $x_m>1$\n",
    "4. 理论概率期望是 $2/\\pi$ ,由此计算 $\\pi$ 的数值\n",
    "\n",
    "\n",
    "## 三、解答正文\n",
    "### （一）基础功能\n",
    "其基础功能实行较为简单。\n",
    "\n",
    "此次估计PI值结果为3.1418276781351495，可见其收敛性极差。\n"
   ]
  },
  {
   "cell_type": "code",
   "metadata": {
    "ExecuteTime": {
     "end_time": "2024-07-13T07:45:01.929459Z",
     "start_time": "2024-07-13T07:44:47.147288Z"
    }
   },
   "source": [
    "import numpy as np\n",
    "from scipy import stats\n",
    "\n",
    "# self-definition variable\n",
    "x_line=1\n",
    "N=100000000 #选取N个样本点。\n",
    "\n",
    "# calculate \n",
    "## random of x_d and theta\n",
    "low = 0\n",
    "high = x_line\n",
    "x_d = stats.uniform.rvs(loc=low, scale=high-low, size=(N,))# 一个均匀的连续随机变量。使用参数 loc 和 scale ，可以得到 [loc, loc + scale] 上的均匀分布。\n",
    "low = 0\n",
    "high = np.pi/2\n",
    "theta = stats.uniform.rvs(loc=low, scale=high-low, size=(N,))\n",
    "## calaulate x_m\n",
    "x_m=x_d+np.abs(np.sin(theta))\n",
    "## estimate pi\n",
    "cross1=x_m>x_line\n",
    "probability_posi=np.sum(cross1)/N\n",
    "pi_est=2/probability_posi\n",
    "print(\"此次估计pi值为{}\".format(pi_est))"
   ],
   "outputs": [
    {
     "name": "stdout",
     "output_type": "stream",
     "text": [
      "此次估计pi值为3.1413065714955484\n"
     ]
    }
   ],
   "execution_count": 1
  },
  {
   "cell_type": "markdown",
   "metadata": {},
   "source": [
    "### （二）提升收敛性\n",
    "#### 1.sobol序列（不好用）\n",
    "一亿次只能精确到3.1415,可见MC方法在收敛性方面极差。\n",
    "\n",
    "均匀分布也不大好用，因为这里有转角和位置两个自由度，平方倍复杂度。\n",
    "\n",
    "Sobol序列是一种折中的分布，是一种低方差（相对于完全随机）的伪随机，可以尝试。\n",
    "\n",
    "尝试完了，不好用，应该是高维才用的，不稳定。"
   ]
  },
  {
   "cell_type": "code",
   "metadata": {
    "ExecuteTime": {
     "end_time": "2024-07-13T07:45:17.632858Z",
     "start_time": "2024-07-13T07:45:01.932736Z"
    }
   },
   "source": [
    "import numpy as np\n",
    "from scipy.stats import qmc\n",
    "\n",
    "# self-definition variable\n",
    "x_line=1\n",
    "N=2**27 #选取N个样本点。\n",
    "\n",
    "# calculate \n",
    "## random of x_d\n",
    "low = 0\n",
    "high = x_line\n",
    "sampler1 = qmc.Sobol(d=1, scramble=True)\n",
    "x_d = sampler1.random(n=N)\n",
    "x_d=x_d*high\n",
    "## random of theta\n",
    "low = 0\n",
    "high = np.pi/2\n",
    "sampler2 = qmc.Sobol(d=1, scramble=True)\n",
    "theta = sampler2.random(n=N)\n",
    "theta=theta*high\n",
    "## calaulate x_m\n",
    "x_m=x_d+np.abs(np.sin(theta))\n",
    "## estimate pi\n",
    "cross=x_m>x_line\n",
    "probability_posi=np.sum(cross)/N\n",
    "pi_est=2/probability_posi\n",
    "print(\"此次估计pi值为{}\".format(pi_est))"
   ],
   "outputs": [
    {
     "name": "stdout",
     "output_type": "stream",
     "text": [
      "此次估计pi值为3.2\n"
     ]
    }
   ],
   "execution_count": 2
  },
  {
   "cell_type": "markdown",
   "metadata": {},
   "source": [
    "#### 2.均匀取点\n",
    "没啥能用的，均匀取点试一下。\n",
    "\n",
    "均匀取10000个 $x_c$ 和 $\\theta$ $(10000^2= 100000000)$ ,组合100000000种情况。\n",
    "\n",
    "此次估计pi值为3.1417311419276883，优点是没有方差，稳定，但没啥用。"
   ]
  },
  {
   "cell_type": "code",
   "metadata": {
    "ExecuteTime": {
     "end_time": "2024-07-13T07:45:21.258383Z",
     "start_time": "2024-07-13T07:45:17.639734Z"
    }
   },
   "source": [
    "import numpy as np\n",
    "from scipy import stats\n",
    "\n",
    "# self-definition variable\n",
    "x_line=1\n",
    "N=10000 #选取N个样本点。\n",
    "\n",
    "# calculate \n",
    "## random of x_d and theta\n",
    "low = 0\n",
    "high = x_line\n",
    "x_d = np.linspace(low,high,N)\n",
    "low = 0\n",
    "high = np.pi/2\n",
    "theta = np.linspace(low,high,N)\n",
    "X_c,Theta=np.meshgrid(x_d,theta)\n",
    "\n",
    "## calaulate x_m\n",
    "X_m=X_c+np.abs(np.sin(Theta))\n",
    "x_m=X_m.reshape(1,N**2)\n",
    "## estimate pi\n",
    "cross3=x_m>x_line\n",
    "probability_posi=np.sum(cross3)/(N**2)\n",
    "pi_est=2/probability_posi\n",
    "print(\"此次估计pi值为{}\".format(pi_est))"
   ],
   "outputs": [
    {
     "name": "stdout",
     "output_type": "stream",
     "text": [
      "此次估计pi值为3.1417311419276883\n"
     ]
    }
   ],
   "execution_count": 3
  },
  {
   "cell_type": "markdown",
   "metadata": {},
   "source": [
    "#### 3.重要性抽样\n",
    "此题用不了，因为很难给出 $x_d$ 和 $\\theta$ 的概率密度函数使 $x_d+\\sin\\theta$ 的概率密度函数在 $x_d+\\sin\\theta=1$ 时最大。而且就算强行计算，做卷积时大概率也没有解析解。\n",
    "#### 4.分层抽样\n",
    "\n",
    "假如我们将随机区间分成子区间，按正常的随机抽样，投入点数理应正比于子空间占比，此时各子区间结果重要程度正比子区间占比。如果我们不想均匀取点，理应对子区间重要性加权。\n",
    "\n",
    "$$\n",
    "\\langle f(\\vec x) \\rangle= \\sum_i \\frac{S_i}{S}\\langle f(\\vec x)\\rangle_i\n",
    "$$ \n",
    "\n",
    "其中 $\\langle f(\\vec x)\\rangle_i$ 为取点数正比于子区间占比时每个子区间的计算结果。$\\langle g(\\vec x)\\rangle_i$ 为取点数和子区间占比无关时每个子区间的计算结果。\n",
    "\n",
    "$\\frac{\\rho_s}{\\rho_i}$ 这i个区域权重需要归一 \n",
    "\n",
    "现在我们可以进一步简化，令子区间体积相同,那么计算公式简化为：\n",
    "$$\n",
    "\\langle f(\\vec x) \\rangle= \\propto \\rho\\sum_i \\langle g(\\vec x)\\rangle_i\n",
    "$$ \n",
    "这个操作在子区间不多时几乎不会增加数值计算复杂度，却令人心情愉悦。\n",
    "\n",
    "* 只对 $x_d$ 分层抽样。\n",
    "\n",
    "对x_d 的范围 $[0,1]$ 取 5个等区间。提升敏感区间,资源分配比例如下为[1,3,2,1,1]\n",
    "\n",
    "此次估计pi值为3.1411836530340005"
   ]
  },
  {
   "cell_type": "code",
   "metadata": {
    "ExecuteTime": {
     "end_time": "2024-07-13T07:45:29.545745Z",
     "start_time": "2024-07-13T07:45:21.264852Z"
    }
   },
   "source": [
    "import numpy as np\n",
    "from scipy import stats\n",
    "\n",
    "# self-definition variable\n",
    "N=100000000 #选取N个样本点。\n",
    "x_line=1\n",
    "## 空间分配\n",
    "num_room=5 #空间数量\n",
    "rho=1/num_room #空间占比\n",
    "num_dim=1 #空间维度(划分的)\n",
    "room_bound=np.array([[0,0.2],[0.2,0.4],[0.4,0.6],[0.6,0.8],[0.8,1]])\n",
    "room_pro=0\n",
    "## resource proportion\n",
    "rescource_ratio=np.array([1,3,2,1,1])\n",
    "rescource_proportion=rescource_ratio/np.sum(rescource_ratio)\n",
    "\n",
    "\n",
    "\n",
    "# calculate\n",
    "\n",
    "## sub_room\n",
    "for i in range(num_room):\n",
    "    ### 计算子区间资源\n",
    "    sub_N=int(N*rescource_proportion[i])\n",
    "\n",
    "    ### random of x_d\n",
    "    low,high=room_bound[i,:]\n",
    "    x_d = stats.uniform.rvs(loc=low, scale=high-low, size=(sub_N,))# 一个均匀的连续随机变量。使用参数 loc 和 scale ，可以得到 [loc, loc + scale] 上的均匀分布。\n",
    "    ### random of theta\n",
    "    low = 0\n",
    "    high = np.pi/2\n",
    "    theta = stats.uniform.rvs(loc=low, scale=high-low, size=(sub_N,))\n",
    "\n",
    "    ### calaulate x_m in this room\n",
    "    x_m=x_d+np.abs(np.sin(theta))        \n",
    "    ### estimate pi\n",
    "    cross=(x_m>x_line)\n",
    "    probability_posi=np.sum(cross)/sub_N\n",
    "    room_pro+=rho*probability_posi\n",
    "\n",
    "pi_est=2/room_pro\n",
    "print(\"此次估计pi值为{}\".format(pi_est))\n"
   ],
   "outputs": [
    {
     "name": "stdout",
     "output_type": "stream",
     "text": [
      "此次估计pi值为3.1416502225712573\n"
     ]
    }
   ],
   "execution_count": 4
  },
  {
   "cell_type": "markdown",
   "metadata": {},
   "source": [
    "* 同理，可以对 $\\theta$ 也空间划分，资源倾斜，即为5*5空间。\n",
    "```python\n",
    "rescource_ratio=np.array([1*np.array([1,1,1,2,3]),\\\n",
    "                         3*np.array([1,1,2,3,1]),\\\n",
    "                         2*np.array([1,1,3,2,1]),\\\n",
    "                         1*np.array([1,3,2,1,1]),\\\n",
    "                         1*np.array([3,2,1,1,1])])\n",
    "```\n",
    "\n",
    "此次估计pi值为3.1415315137363873"
   ]
  },
  {
   "cell_type": "code",
   "metadata": {
    "ExecuteTime": {
     "end_time": "2024-07-13T07:45:36.945599Z",
     "start_time": "2024-07-13T07:45:29.548697Z"
    }
   },
   "source": [
    "import numpy as np\n",
    "from scipy import stats\n",
    "\n",
    "# self-definition variable\n",
    "N=100000000 #选取N个样本点。\n",
    "x_line=1\n",
    "## 空间分配\n",
    "num_room=25 #空间数量\n",
    "rho=1/num_room #空间占比\n",
    "num_row=5 #空间维度(划分的)\n",
    "num_column=5 \n",
    "room_pro=0\n",
    "### 界限\n",
    "class Bound():\n",
    "    x_d=np.array([[0,0.2],[0.2,0.4],[0.4,0.6],[0.6,0.8],[0.8,1]])\n",
    "    theta=np.array(np.array([[0,0.2],[0.2,0.4],[0.4,0.6],[0.6,0.8],[0.8,1]])*np.pi/2)\n",
    "room_bound=Bound()\n",
    "## 资源分配\n",
    "rescource_ratio=np.array([1*np.array([1,1,1,2,3]),\\\n",
    "                         3*np.array([1,1,2,3,1]),\\\n",
    "                         2*np.array([1,1,3,2,1]),\\\n",
    "                         1*np.array([1,3,2,1,1]),\\\n",
    "                         1*np.array([3,2,1,1,1])])\n",
    "rescource_proportion=rescource_ratio/np.sum(rescource_ratio)\n",
    "\n",
    "\n",
    "# calculate\n",
    "## sub_room\n",
    "for i in range(num_row):\n",
    "    for j in range(num_column):\n",
    "        ### 计算子区间资源\n",
    "        sub_N=int(N*rescource_proportion[i,j])\n",
    "\n",
    "        ### random of x_d\n",
    "        low,high=room_bound.x_d[i,:]\n",
    "        x_d = stats.uniform.rvs(loc=low, scale=high-low, size=(sub_N,))# 一个均匀的连续随机变量。使用参数 loc 和 scale ，可以得到 [loc, loc + scale] 上的均匀分布。\n",
    "        ### random of theta\n",
    "        low,high=room_bound.theta[j,:]\n",
    "        theta = stats.uniform.rvs(loc=low, scale=high-low, size=(sub_N,))\n",
    "\n",
    "        ### calaulate x_m in this room\n",
    "        x_m=x_d+np.abs(np.sin(theta))        \n",
    "        ### estimate pi\n",
    "        cross=(x_m>x_line)\n",
    "        probability_posi=np.sum(cross)/sub_N\n",
    "        room_pro+=rho*probability_posi\n",
    "\n",
    "pi_est=2/room_pro\n",
    "print(\"此次估计pi值为{}\".format(pi_est))"
   ],
   "outputs": [
    {
     "name": "stdout",
     "output_type": "stream",
     "text": [
      "此次估计pi值为3.141648706545192\n"
     ]
    }
   ],
   "execution_count": 5
  },
  {
   "cell_type": "markdown",
   "metadata": {},
   "source": [
    "* 线程优化\n",
    "\n",
    "上面不同子区间的计算显然是平行关系，可进行线程优化。"
   ]
  },
  {
   "cell_type": "code",
   "metadata": {
    "ExecuteTime": {
     "end_time": "2024-07-13T07:45:41.191782Z",
     "start_time": "2024-07-13T07:45:36.948654Z"
    }
   },
   "source": [
    "import numpy as np\n",
    "from scipy import stats\n",
    "import concurrent.futures\n",
    "\n",
    "# self-definition variable\n",
    "N=100000000 #选取N个样本点。\n",
    "x_line=1\n",
    "## 空间分配\n",
    "num_room=25 #空间数量\n",
    "rho=1/num_room #空间占比\n",
    "num_row=5 #空间维度(划分的)\n",
    "num_column=5 \n",
    "room_pro=0\n",
    "### 界限\n",
    "class Bound():\n",
    "    x_d=np.array([[0,0.2],[0.2,0.4],[0.4,0.6],[0.6,0.8],[0.8,1]])\n",
    "    theta=np.array(np.array([[0,0.2],[0.2,0.4],[0.4,0.6],[0.6,0.8],[0.8,1]])*np.pi/2)\n",
    "room_bound=Bound()\n",
    "## 资源分配\n",
    "rescource_ratio=np.array([1*np.array([1,1,1,2,3]),\\\n",
    "                         3*np.array([1,1,2,3,1]),\\\n",
    "                         2*np.array([1,1,3,2,1]),\\\n",
    "                         1*np.array([1,3,2,1,1]),\\\n",
    "                         1*np.array([3,2,1,1,1])])\n",
    "rescource_proportion=rescource_ratio/np.sum(rescource_ratio)\n",
    "\n",
    "# calculate\n",
    "## sub_room\n",
    "def task(i,j):\n",
    "    ### 计算子区间资源\n",
    "    sub_N=int(N*rescource_proportion[i,j])\n",
    "\n",
    "    ### random of x_d\n",
    "    low,high=room_bound.x_d[i,:]\n",
    "    x_d = stats.uniform.rvs(loc=low, scale=high-low, size=(sub_N,))# 一个均匀的连续随机变量。使用参数 loc 和 scale ，可以得到 [loc, loc + scale] 上的均匀分布。\n",
    "    ### random of theta\n",
    "    low,high=room_bound.theta[j,:]\n",
    "    theta = stats.uniform.rvs(loc=low, scale=high-low, size=(sub_N,))\n",
    "\n",
    "    ### calaulate x_m in this room\n",
    "    x_m=x_d+np.abs(np.sin(theta))        \n",
    "    ### estimate pi\n",
    "    cross=(x_m>x_line)\n",
    "    probability_posi=np.sum(cross)/sub_N\n",
    "    return rho*probability_posi\n",
    "## 线程优化\n",
    "### 创建一个线程池\n",
    "with concurrent.futures.ThreadPoolExecutor() as executor:\n",
    "    # 提交任务到线程池\n",
    "    futures = []\n",
    "    for i in range(num_row):\n",
    "        for j in range(num_column):\n",
    "            future = executor.submit(task, i,j)\n",
    "            futures.append(future)\n",
    "\n",
    "    # 等待所有任务完成\n",
    "    results = np.array([])\n",
    "    for future in concurrent.futures.as_completed(futures):\n",
    "        result=future.result()  #获取任务结果\n",
    "        results=np.append(results,result)\n",
    "# Output\n",
    "pi_est=2/np.sum(results)\n",
    "print(\"此次估计pi值为{}\".format(pi_est))"
   ],
   "outputs": [
    {
     "name": "stdout",
     "output_type": "stream",
     "text": [
      "此次估计pi值为3.141614217347495\n"
     ]
    }
   ],
   "execution_count": 6
  },
  {
   "cell_type": "markdown",
   "metadata": {},
   "source": [
    "## 四、总结\n",
    "可以发现费那么大劲不改变一亿次计算量的前提也就多收敛一位。可见MC方法先天就有收敛性问题，难以进行N量级以上的优化。\n",
    "\n",
    "当然，一定有更有效资源配比，不过这是自适应这个配比是另一个问题。"
   ]
  }
 ],
 "metadata": {
  "kernelspec": {
   "display_name": "Library",
   "language": "python",
   "name": "python3"
  },
  "language_info": {
   "codemirror_mode": {
    "name": "ipython",
    "version": 3
   },
   "file_extension": ".py",
   "mimetype": "text/x-python",
   "name": "python",
   "nbconvert_exporter": "python",
   "pygments_lexer": "ipython3",
   "version": "3.11.6"
  }
 },
 "nbformat": 4,
 "nbformat_minor": 2
}

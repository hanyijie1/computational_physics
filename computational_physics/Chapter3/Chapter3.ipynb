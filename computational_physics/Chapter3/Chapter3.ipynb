{
 "cells": [
  {
   "cell_type": "markdown",
   "metadata": {},
   "source": [
    "# Chapter3: Interpolation, differential and integral\n",
    "\n",
    "## 3.1 interpolation\n",
    "### 3.1.1 Lagrange interpolation\n",
    "* Demand\n",
    "1. n points for interpolation of degree n\n",
    "2. little data quantity\n",
    "* Flaw\n",
    "\n",
    "Hight calculated quantity and over fitting\n",
    "\n",
    "* principle\n",
    "\n",
    "n points fit in n polynomial of degree n\n",
    "\n",
    "* Function\n",
    "\n",
    "```python\n",
    "coefficients=spig.lagrange(x,y) #Output: 降序多项式系数;也是一个调用函数。\n",
    "```\n"
   ]
  },
  {
   "cell_type": "code",
   "metadata": {
    "jupyter": {
     "is_executing": true
    }
   },
   "source": [
    "#---------------------instance-----------------------#\n",
    "# Libary and function\n",
    "import scipy.interpolate as spip\n",
    "import numpy as np\n",
    "import matplotlib.pyplot as plt\n",
    "\n",
    "# Data\n",
    "## input\n",
    "x = np.array([1, 2, 3, 4, 5])\n",
    "y = np.array([2, 3, 1, 5, 7])\n",
    "range_x=np.linspace(1,5,50)\n",
    "## compute\n",
    "coefficients=spip.lagrange(x,y) # Output: 降序多项式系数\n",
    "print(\"拟合的多项式为：\")\n",
    "print(coefficients)\n",
    "fittingvalue=coefficients(range_x)\n",
    "\n",
    "# graph\n",
    "## plot\n",
    "plt.plot(range_x,fittingvalue)\n",
    "\n",
    "# output\n",
    "plt.show()"
   ],
   "outputs": [],
   "execution_count": null
  },
  {
   "cell_type": "markdown",
   "metadata": {},
   "source": [
    "### 3.1.2 cubic spline interpolation\n",
    "* Property\n",
    "分段使用拉格朗日插值，不同段要求一阶导数光滑，二阶导数连续。\n",
    "\n",
    "k=3时为三次样条，一般是用这个。\n",
    "\n",
    "s=1.2为平滑程度。可以使插值数据更连续。\n",
    "\n",
    "* Function\n",
    "\n",
    "```python\n",
    "tck=spip.splrep(x,y,k=3,s=1.2) #general tck for insert information\n",
    "y_interp = spip.splev(range_x, tck) #调用tck元组,对range_x插值。\n",
    "# Input\n",
    "## k=3 拟合次数\n",
    "## s 代表平滑程度\n",
    "# output\n",
    "##return 三元组：节点向量，系数，阶数。\n",
    "```\n"
   ]
  },
  {
   "cell_type": "code",
   "execution_count": 14,
   "metadata": {},
   "outputs": [
    {
     "data": {
      "image/png": "[encoded data removed]",
      "text/plain": [
       "<Figure size 640x480 with 1 Axes>"
      ]
     },
     "metadata": {},
     "output_type": "display_data"
    }
   ],
   "source": [
    "# Data\n",
    "x = np.array([1, 2, 3, 4, 5])\n",
    "y = np.array([2, 3, 1, 5, 7])\n",
    "range_x=np.linspace(1,5,50)\n",
    "## interp\n",
    "tck = spip.splrep(x, y)  # Compute the B-spline representation of a 1-D curve\n",
    "y_interp = spip.splev(range_x, tck)\n",
    "\n",
    "# graph\n",
    "## plot\n",
    "plt.plot(range_x,y_interp)\n",
    "\n",
    "# output\n",
    "plt.show()"
   ]
  },
  {
   "cell_type": "markdown",
   "metadata": {},
   "source": [
    "## 3.2 differential\n",
    "### 3.2.1 Forward differential\n",
    "$$\n",
    "f'(x)=\\frac{y_{n+1}-y_n}{h}\n",
    "$$"
   ]
  },
  {
   "cell_type": "code",
   "execution_count": 15,
   "metadata": {},
   "outputs": [
    {
     "name": "stdout",
     "output_type": "stream",
     "text": [
      "[ 1 -2  4  2]\n"
     ]
    }
   ],
   "source": [
    "# Data\n",
    "y = np.array([2, 3, 1, 5, 7])\n",
    "\n",
    "print(np.diff(y,1))"
   ]
  },
  {
   "cell_type": "markdown",
   "metadata": {},
   "source": [
    "### 3.2.2 Backward differential\n",
    "$$\n",
    "f'(x)=\\frac{y_{n}-y_{n-1}}{h}\n",
    "$$\n",
    "\n",
    "### 3.2.3 Central differential\n",
    "$$\n",
    "f'(x)=\\frac{y_{n+1}-y_{n-1}}{2h}\n",
    "$$\n",
    "\n",
    "### 3.2.4 However,I always employ Gradient\n",
    "* function\n",
    "```python\n",
    "np.gradient(f, *varargs, axis=None, edge_order=1)\n",
    "```\n",
    "* principle\n",
    "\n",
    "中间是向中差分，两边是向前或向后。"
   ]
  },
  {
   "cell_type": "code",
   "execution_count": 16,
   "metadata": {},
   "outputs": [
    {
     "name": "stdout",
     "output_type": "stream",
     "text": [
      "[ 1.  -0.5  1.   3.   2. ]\n"
     ]
    }
   ],
   "source": [
    "# Data\n",
    "x = np.array([1, 2, 3, 4, 5])\n",
    "y = np.array([2, 3, 1, 5, 7])\n",
    "# Calculation\n",
    "Gradient_=np.gradient(y,x)\n",
    "\n",
    "print(Gradient_)"
   ]
  },
  {
   "cell_type": "markdown",
   "metadata": {},
   "source": [
    "## 3.3 Definite Integral\n",
    "要求：间距相等，否则二阶以上会失效。\n",
    "\n",
    "For $\\frac{dy}{dx}=\\rho(x)$\n",
    "* interation trapezoid formula\n",
    "$$\n",
    "y=y+\\frac{\\Delta x}{2}[\\rho(x_i)+\\rho(x_{i+1})]\n",
    "$$\n",
    "* simps method\n",
    "1. interation Formula\n",
    "$$\n",
    "y=y+\\frac{\\Delta x}{3}[\\rho(x_{i-1})+4\\rho(x_i)+\\rho(x_{i+1})]\n",
    "$$\n",
    "最后一个间隔采用梯形积分\n",
    "\n",
    "2. Founction\n",
    "\n",
    "定积分无需初值。而是区间。\n",
    "```python\n",
    "spi.simps(rho, x_array)\n",
    "```"
   ]
  },
  {
   "cell_type": "code",
   "execution_count": 17,
   "metadata": {},
   "outputs": [
    {
     "name": "stdout",
     "output_type": "stream",
     "text": [
      "-6.746712844858845e-07\n",
      "0.0\n"
     ]
    },
    {
     "name": "stderr",
     "output_type": "stream",
     "text": [
      "C:\\Users\\a1876\\AppData\\Local\\Temp\\ipykernel_9460\\365025549.py:4: DeprecationWarning: 'scipy.integrate.simps' is deprecated in favour of 'scipy.integrate.simpson' and will be removed in SciPy 1.14.0\n",
      "  y=spig.simps(rho,x_array)\n"
     ]
    }
   ],
   "source": [
    "import scipy.integrate as spig\n",
    "x_array=np.linspace(0,2*np.pi,100)\n",
    "rho=np.sin(x_array)\n",
    "y=spig.simps(rho,x_array)\n",
    "print(y)\n",
    "\n",
    "# 解析解验证\n",
    "y2=np.cos(2*np.pi)-np.cos(0)\n",
    "print(y2)"
   ]
  }
 ],
 "metadata": {
  "kernelspec": {
   "display_name": "Python 3",
   "language": "python",
   "name": "python3"
  },
  "language_info": {
   "codemirror_mode": {
    "name": "ipython",
    "version": 3
   },
   "file_extension": ".py",
   "mimetype": "text/x-python",
   "name": "python",
   "nbconvert_exporter": "python",
   "pygments_lexer": "ipython3",
   "version": "3.11.2"
  }
 },
 "nbformat": 4,
 "nbformat_minor": 2
}

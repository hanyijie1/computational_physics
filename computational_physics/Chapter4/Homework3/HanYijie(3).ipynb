{
 "cells": [
  {
   "cell_type": "markdown",
   "metadata": {},
   "source": [
    "# The Third Homework of computational physics\n",
    "## Information\n",
    "* Name：韩懿杰\n",
    "* student number：20213006413\n",
    "## 一、题目：\n",
    "已知$y=x^4+4x^3-6x^2-16x+4$,在$-1<x<4$中以弦割法寻找零点和极小值点。\n",
    "（似乎让写的是切线法，但我最后才发现。。。着实不想改了）\n",
    "## 二、分析：\n",
    "此问题为求y零点和y一阶导零点问题，最小值为一阶导数零点处的函数值的最小值或区间端点。对于求指定区间的零点问题，难点有二：\n",
    "\n",
    "1. 零点个数问题，即是否可以找到所有的零点。\n",
    "\n",
    "2. 零点的精确提高度问题，即对于指定零点，是否可以快速收敛？\n",
    "\n",
    "对于问题一，我们将求解区间等距分割若干个子区间，假设每一个端点异号的子区间仅存在一个零点。但注意，这始终是个无法严格避免的问题。\n",
    "\n",
    "对于问题二，我们以切线或者弦割法快速收敛。\n",
    "## 三、预处理\n",
    "### 1、辅助函数\n",
    "画图习惯设置"
   ]
  },
  {
   "cell_type": "code",
   "metadata": {
    "ExecuteTime": {
     "end_time": "2024-06-22T03:40:58.285932Z",
     "start_time": "2024-06-22T03:40:57.603815Z"
    }
   },
   "source": [
    "# Labrary\n",
    "import numpy as np\n",
    "import matplotlib.pyplot as plt\n",
    "# Graph in pack\n",
    "def graph(ax,x,y,x_label=\"x0\",y_label=\"y0\",title=\"Title0\",legend='legend0',loc='upper left',color=\"color\",linestyle='-'):\n",
    "    ## Parameter\n",
    "    ### rangle\n",
    "    x_range=np.array([np.min(x)-0.1*(np.max(x)-np.min(x)),np.max(x)+0.1*(np.max(x)-np.min(x))])\n",
    "    y_range=np.array([np.min(y)-0.1*(np.max(y)-np.min(y)),np.max(y)+0.1*(np.max(y)-np.min(y))])\n",
    "\n",
    "    ## figure\n",
    "    ## plot\n",
    "    ax.plot(x,y,marker='o',color=color,linestyle=linestyle,linewidth=2.0,label=legend)\n",
    "    ## title\n",
    "    ax.set_title(title,fontname='Arial',fontsize=20,weight='bold',x=0.5,y=1)\n",
    "    ## legend\n",
    "    ax.legend(loc=loc,prop = {'size':8})\n",
    "    ## Axis\n",
    "    ### label\n",
    "    ax.set_xlabel(x_label,fontsize=14,labelpad=0)\n",
    "    ax.set_ylabel(y_label,fontsize=14)\n",
    "    ### limit\n",
    "    ax.set_xlim(x_range)\n",
    "    ax.set_ylim(y_range)\n",
    "    ### tick\n",
    "    #axn.set_xticks(np.linspace(0,10,4)) #x axis scale. range: 0-10，points: 4\n",
    "    #axn.set_xticklabels(['you','are','so','nice'])\n",
    "    ax.tick_params(axis='both',direction='in',color='black',length=5,width=1) #axis='x'or'y'or'both'\n",
    "    \n",
    "    return 0\n"
   ],
   "outputs": [],
   "execution_count": 1
  },
  {
   "cell_type": "markdown",
   "metadata": {},
   "source": [
    "### 2、此题自定义函数，共5个"
   ]
  },
  {
   "cell_type": "code",
   "metadata": {
    "ExecuteTime": {
     "end_time": "2024-06-22T03:41:09.028459Z",
     "start_time": "2024-06-22T03:41:07.604757Z"
    }
   },
   "source": [
    "# Libary\n",
    "import numpy as np\n",
    "import matplotlib.pyplot as plt\n",
    "import scipy.optimize as spo\n",
    "import sympy as sp #此库精通解析解。\n",
    "\n",
    "## 定义求解函数形式\n",
    "def func(x):\n",
    "    return x**4-4*x**3-6*x**2-16*x+4\n",
    "\n",
    "## 得到求解函数之一阶导函数。不算开挂，因为解析导数一般可求。\n",
    "variablex = sp.Symbol('x')\n",
    "### 创建方程组\n",
    "expr1 =variablex**4-4*variablex**3-6*variablex**2-16*variablex+4\n",
    "### 求导\n",
    "derivative = sp.diff(expr1, variablex)\n",
    "### Definition 一阶导函数\n",
    "difffunc = sp.lambdify(variablex,derivative, 'numpy')\n",
    "\n",
    "# 二分法判断子区间是否存在（实际不严格）零点\n",
    "def half(func,subrange_x):\n",
    "    if func(subrange_x[0])*func(subrange_x[1])<=0:\n",
    "        return 1\n",
    "    else:\n",
    "        return 0\n",
    "\n",
    "# 指定子区间以弦割法零点精确计算，要求最大误差：limited_error,最多迭代N次防止死循环。\n",
    "def chord_cut(func,subrange_x,limited_error,N):  \n",
    "    positiona=subrange_x[0]\n",
    "    positionb=subrange_x[1]\n",
    "    for i in range(N):\n",
    "        k=(positiona-positionb)/(func(positiona)-func(positionb))\n",
    "        t=positionb-func(positionb)*k\n",
    "        error=np.abs(func(t))\n",
    "        if error<limited_error:\n",
    "            return t,error,i\n",
    "        else:\n",
    "            positiona=positionb\n",
    "            positionb=t\n",
    "            if i==N-1:\n",
    "                print(\"别找了，找不到\")\n",
    "                break \n",
    "                \n",
    "# 综合函数，二分法定零点个数，然后弦割法收敛。\n",
    "## Input \n",
    "## Output [[区间0][区间1]...];[[x0,error,N],[]]\n",
    "def solve_zero(range_x,func,method1=half,method2=chord_cut,limited_error=1e-6,N=100):  \n",
    "    # 二分法定零点个数,所在子区间\n",
    "    zero_subrange=np.array([[]])\n",
    "    for i in range(np.size(range_x)-1):\n",
    "        subrange_x=np.array([[range_x[i],range_x[i+1]]])\n",
    "        if half(func,subrange_x[0,:]):\n",
    "            zero_subrange=np.concatenate((zero_subrange,subrange_x),axis=1) \n",
    "    # 弦割法收敛\n",
    "    zero_value_infor=np.zeros(((np.shape(zero_subrange))[0],3))\n",
    "    for i in range((np.shape(zero_subrange))[0]):\n",
    "        subrange_x=zero_subrange[i,:]\n",
    "        zero_value_infor[i,:]=chord_cut(func,subrange_x,limited_error,N)\n",
    "    return zero_subrange,zero_value_infor"
   ],
   "outputs": [],
   "execution_count": 2
  },
  {
   "cell_type": "markdown",
   "metadata": {},
   "source": [
    "## 四、正文代码"
   ]
  },
  {
   "cell_type": "code",
   "metadata": {
    "ExecuteTime": {
     "end_time": "2024-06-22T03:41:12.162706Z",
     "start_time": "2024-06-22T03:41:12.149931Z"
    }
   },
   "source": [
    "range_x=np.linspace(-1,4,100)\n",
    "# 函数零点信息\n",
    "zero_subrange,zero_value_infor=solve_zero(range_x,func,method1=half,method2=chord_cut,limited_error=1e-6,N=100)\n",
    "# 导函数\n",
    "## 零点信息\n",
    "fzero_subrange,fzero_value_infor=solve_zero(range_x,difffunc,method1=half,method2=chord_cut,limited_error=1e-6,N=100)\n",
    "## 最小值,考虑端点\n",
    "t=np.append(fzero_value_infor[:,0],np.array([range_x[0],range_x[-1]]))\n",
    "minvalue=np.min(func(t))\n",
    "seq=t[np.argmin(func(t))]"
   ],
   "outputs": [],
   "execution_count": 3
  },
  {
   "cell_type": "markdown",
   "metadata": {},
   "source": [
    "## 五、图像验证"
   ]
  },
  {
   "cell_type": "code",
   "metadata": {
    "ExecuteTime": {
     "end_time": "2024-06-22T03:41:16.599591Z",
     "start_time": "2024-06-22T03:41:16.119731Z"
    }
   },
   "source": [
    "# fig\n",
    "ax=[0,0]\n",
    "fig = plt.figure()\n",
    "ax[0] = fig.add_subplot(1,1,1)\n",
    "ax[1]=ax[0].twinx()\n",
    "# data\n",
    "x_ndarray=range_x\n",
    "y0_ndarray=func(range_x)\n",
    "y1_ndarray=difffunc(range_x)\n",
    "# plot\n",
    "graph(ax[0],x_ndarray,y0_ndarray,x_label=\"x\",y_label=\"y\",title=\"sketch\",legend='y',color='k')\n",
    "graph(ax[1],x_ndarray,y1_ndarray,x_label=\"x\",y_label=\"dy/dt\",title=\"sketch\",legend='dy/dt',loc='upper right',color='r')#note some parameter follow with 0\n",
    "\n",
    "# output\n",
    "plt.show()\n",
    "#plt.savefig('savefig_example.eps') #eps piture"
   ],
   "outputs": [
    {
     "name": "stderr",
     "output_type": "stream",
     "text": [
      "findfont: Font family 'Arial' not found.\n",
      "findfont: Font family 'Arial' not found.\n",
      "findfont: Font family 'Arial' not found.\n",
      "findfont: Font family 'Arial' not found.\n",
      "findfont: Font family 'Arial' not found.\n",
      "findfont: Font family 'Arial' not found.\n"
     ]
    },
    {
     "data": {
      "text/plain": [
       "<Figure size 640x480 with 2 Axes>"
      ],
      "image/png": "[encoded data removed]"
     },
     "metadata": {},
     "output_type": "display_data"
    }
   ],
   "execution_count": 4
  },
  {
   "cell_type": "markdown",
   "metadata": {},
   "source": [
    "## 六、结论\n",
    "以一段格式化输出作为此作业结果：\n",
    "由此可见这个函数有点浪费这个代码。"
   ]
  },
  {
   "cell_type": "code",
   "metadata": {
    "ExecuteTime": {
     "end_time": "2024-06-22T03:41:21.100890Z",
     "start_time": "2024-06-22T03:41:21.077979Z"
    }
   },
   "source": [
    "print(\"该函数共有零点{}个，二分法估计其区间分别为{},\\n\\\n",
    "弦割法确定其位置分别{}，误差{}，迭代次数{},\\n\"\\\n",
    ".format((np.shape(zero_subrange))[0],zero_subrange,zero_value_infor[:,0],\\\n",
    "        zero_value_infor[:,1],zero_value_infor[:,2]))\n",
    "print(\"该导函数共有零点{}个，二分法估计其区间分别为{},\\n\\\n",
    "弦割法确定其位置分别{}，误差{}，迭代次数{},\\n\"\\\n",
    ".format((np.shape(fzero_subrange))[0],fzero_subrange,fzero_value_infor[:,0],\\\n",
    "        fzero_value_infor[:,1],fzero_value_infor[:,2]))\n",
    "print(\"该函数最小值在{}处，对应函数值{}\".format(seq,minvalue))"
   ],
   "outputs": [
    {
     "name": "stdout",
     "output_type": "stream",
     "text": [
      "该函数共有零点1个，二分法估计其区间分别为[[0.21212121 0.26262626]],\n",
      "弦割法确定其位置分别[0.22776121]，误差[7.20294757e-09]，迭代次数[2.],\n",
      "\n",
      "该导函数共有零点1个，二分法估计其区间分别为[[3.94949495 4.        ]],\n",
      "弦割法确定其位置分别[4.]，误差[0.]，迭代次数[0.],\n",
      "\n",
      "该函数最小值在4.0处，对应函数值-156.0\n"
     ]
    }
   ],
   "execution_count": 6
  }
 ],
 "metadata": {
  "kernelspec": {
   "display_name": "Python 3",
   "language": "python",
   "name": "python3"
  },
  "language_info": {
   "codemirror_mode": {
    "name": "ipython",
    "version": 3
   },
   "file_extension": ".py",
   "mimetype": "text/x-python",
   "name": "python",
   "nbconvert_exporter": "python",
   "pygments_lexer": "ipython3",
   "version": "3.11.6"
  }
 },
 "nbformat": 4,
 "nbformat_minor": 2
}

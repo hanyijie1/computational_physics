{
 "cells": [
  {
   "cell_type": "markdown",
   "metadata": {},
   "source": [
    "# 微分方程组\n",
    "### 常微分方程组\n",
    "### 龙格-库塔方法(考试考)\n",
    "\n",
    "#### 迭代公式\n",
    "\n",
    "\n",
    "$$\n",
    "\\begin{cases}\n",
    "y(x+\\Delta x)=y(x)+\\frac{1}{6}(k_1+2k_2+2k_3+k_4)+O(\\Delta x^4)\\\\\n",
    "k_1=f(y,x)\\Delta x\\\\\n",
    "k_2=f(y+\\frac{1}{2}k_1,x+\\frac{1}{2}\\Delta x)\\Delta x\\\\\n",
    "k_3=f(y+\\frac{1}{2}k_2,x+\\frac{1}{2}\\Delta x)\\Delta x\\\\\n",
    "k_4=f(y+k_3,x+\\Delta x)\\Delta x\n",
    "\\end{cases}\n",
    "$$\n",
    "#### 误差要求\n",
    "四阶总体误差：$\\Delta t^4$\n",
    "#### 步长要求\n",
    "符合误差的最大步长即可。\n",
    "#### Instance"
   ]
  },
  {
   "cell_type": "code",
   "execution_count": 1,
   "metadata": {},
   "outputs": [],
   "source": [
    "# Library\n",
    "import numpy as np\n",
    "import matplotlib.pyplot as plt\n",
    "\n",
    "def Integral_runge_kutta4_func(dvariable_value_ndarray, x, dx, diff_right_func):\n",
    "    k1_ndarray = dx * diff_right_func(dvariable_value_ndarray, x) #Format :ndarray\n",
    "    k2_ndarray = dx * diff_right_func(dvariable_value_ndarray + 0.5 * k1_ndarray, x + 0.5 * dx)\n",
    "    k3_ndarray = dx * diff_right_func(dvariable_value_ndarray + 0.5 * k2_ndarray, x + 0.5 * dx)\n",
    "    k4_ndarray = dx * diff_right_func(dvariable_value_ndarray + k3_ndarray, x + dx)\n",
    "    return dvariable_value_ndarray + (k1_ndarray + 2 * k2_ndarray+ 2 * k3_ndarray + k4_ndarray) / 6.\n",
    "def self_integral(xdata_ndarray,yinitial_ndarray,Integral_func,diff_right_func):\n",
    "    y=yinitial_ndarray\n",
    "    ydata=np.zeros((np.size(yinitial_ndarray),np.size(xdata_ndarray)))\n",
    "    ydata[:,0]=y\n",
    "    for i in range(np.size(xdata_ndarray)-1):\n",
    "        #intergal\n",
    "        x=xdata_ndarray[i]\n",
    "        dx=xdata_ndarray[i+1]-xdata_ndarray[i]\n",
    "        y=Integral_func(y, x, dx, diff_right_func)     \n",
    "        #store\n",
    "        ydata[:,i+1]=y\n",
    "    return ydata\n",
    "#-------------------The text-------------------------#\n",
    "\n",
    "# Self_definition\n",
    "def diff_right_func(dvariable_value_ndarray,x):#([y0,y1,y2...],x)\n",
    "    x=x\n",
    "    y_0 = dvariable_value_ndarray[0]\n",
    "    y_1 = dvariable_value_ndarray[1]\n",
    "    diff_group_value = np.array([y_1,-y_0-y_1]) #the sequence: dy_0/dx=...;dy_1/dx=...\n",
    "    return diff_group_value\n",
    "\n",
    "xdata_ndarray=np.linspace(0,12,100)\n",
    "yinitial_ndarray=np.array([1,0])\n",
    "\n",
    "sol=self_integral(xdata_ndarray,yinitial_ndarray,Integral_runge_kutta4_func,diff_right_func)"
   ]
  },
  {
   "cell_type": "markdown",
   "metadata": {},
   "source": [
    "### 洛仑兹方程\n",
    "#### 方程如下\n",
    "\n",
    "$$\n",
    "\\begin{cases}\n",
    "\\frac{dx}{dt}=\\sigma(y-x)\\\\\n",
    "\\frac{dy}{dt}=-xz+rx-y\\\\\n",
    "\\frac{dz}{dt}=xy-bz\n",
    "\\end{cases}\n",
    "$$\n"
   ]
  }
 ],
 "metadata": {
  "kernelspec": {
   "display_name": "Python 3",
   "language": "python",
   "name": "python3"
  },
  "language_info": {
   "codemirror_mode": {
    "name": "ipython",
    "version": 3
   },
   "file_extension": ".py",
   "mimetype": "text/x-python",
   "name": "python",
   "nbconvert_exporter": "python",
   "pygments_lexer": "ipython3",
   "version": "3.11.2"
  }
 },
 "nbformat": 4,
 "nbformat_minor": 2
}
